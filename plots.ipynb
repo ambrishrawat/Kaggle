{
 "metadata": {
  "name": "",
  "signature": "sha256:3e264871b2e17f72930c6ef79f46217ca1fa9bac590c49a1f0f3226c6ef1d5ba"
 },
 "nbformat": 3,
 "nbformat_minor": 0,
 "worksheets": [
  {
   "cells": [
    {
     "cell_type": "code",
     "collapsed": false,
     "input": [
      "import numpy as np\n",
      "import matplotlib\n",
      "import sklearn\n",
      "import scipy as sp"
     ],
     "language": "python",
     "metadata": {},
     "outputs": [],
     "prompt_number": 1
    },
    {
     "cell_type": "code",
     "collapsed": false,
     "input": [
      "X = np.load('Data/class_train_in.npy')\n",
      "X = np.array([t[1:] for t in X])\n",
      "y = np.load('Data/class_train_out.npy')\n",
      "#y = np.array([t[1] for t in y])"
     ],
     "language": "python",
     "metadata": {},
     "outputs": [],
     "prompt_number": 35
    },
    {
     "cell_type": "code",
     "collapsed": false,
     "input": [
      "Z = np.array([np.append(w[:],[t[1]]) for t,w in zip(y,X)])\n",
      "header = ''\n",
      "fmt = ''\n",
      "for i in range(1,266):\n",
      "    header = header + 'Feature'+str(i)+','\n",
      "    fmt = fmt + '%i,'\n",
      "header = header + 'Output'\n",
      "fmt = fmt + '%i'"
     ],
     "language": "python",
     "metadata": {},
     "outputs": [],
     "prompt_number": 36
    },
    {
     "cell_type": "code",
     "collapsed": false,
     "input": [
      "np.savetxt(\"Data/train.csv\", Z, delimiter=\",\", fmt=fmt, header=header,comments='')"
     ],
     "language": "python",
     "metadata": {},
     "outputs": [],
     "prompt_number": 37
    },
    {
     "cell_type": "code",
     "collapsed": false,
     "input": [
      "X = np.load('Data/class_test_in.npy')\n",
      "X = np.array([np.append(t[1:],[0]) for t in X])\n",
      "header = ''\n",
      "fmt = ''\n",
      "for i in range(1,266):\n",
      "    header = header + 'Feature'+str(i)+','\n",
      "    fmt = fmt + '%i,'\n",
      "header = header + 'Output'\n",
      "fmt = fmt + '%i'\n",
      "np.savetxt(\"Data/test.csv\", X, delimiter=\",\", fmt=fmt, header=header,comments='')\n"
     ],
     "language": "python",
     "metadata": {},
     "outputs": [],
     "prompt_number": 38
    },
    {
     "cell_type": "code",
     "collapsed": false,
     "input": [],
     "language": "python",
     "metadata": {},
     "outputs": [
      {
       "metadata": {},
       "output_type": "pyout",
       "prompt_number": 33,
       "text": [
        "(265,)"
       ]
      }
     ],
     "prompt_number": 33
    },
    {
     "cell_type": "code",
     "collapsed": false,
     "input": [],
     "language": "python",
     "metadata": {},
     "outputs": []
    }
   ],
   "metadata": {}
  }
 ]
}